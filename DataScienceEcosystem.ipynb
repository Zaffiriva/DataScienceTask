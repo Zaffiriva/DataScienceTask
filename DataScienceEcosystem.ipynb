{
 "cells": [
  {
   "cell_type": "markdown",
   "id": "49f0b5ab-a9f5-492f-bb6f-88b7f5ee2170",
   "metadata": {
    "tags": []
   },
   "source": [
    "# Data Science Tools and Ecosystem"
   ]
  },
  {
   "cell_type": "markdown",
   "id": "52cbf00f-a605-45ef-b496-6c3ec6e8dbc5",
   "metadata": {
    "tags": []
   },
   "source": [
    "## In this notebook, Data Science Tools and Ecosystem are summarized."
   ]
  },
  {
   "cell_type": "markdown",
   "id": "f323d8bd-549f-4f88-81fb-3f78bc2f50ed",
   "metadata": {
    "jp-MarkdownHeadingCollapsed": true,
    "tags": []
   },
   "source": [
    "### **Objetives:**\n",
    "- Popular languages \n",
    "- Common libraries\n",
    "- Data Science tools\n",
    "- Arithmetic in python"
   ]
  },
  {
   "cell_type": "markdown",
   "id": "26f6a4e5-795d-48ad-b30c-768bc81b3db6",
   "metadata": {
    "tags": []
   },
   "source": [
    "### Some of the popular languages that Data Scientist use are:\n",
    "1. Python\n",
    "2. R\n",
    "3. Julia\n",
    "4. SQL \n"
   ]
  },
  {
   "cell_type": "markdown",
   "id": "00830f7f-ddbd-4efa-9462-6827fa6aa5dc",
   "metadata": {
    "tags": []
   },
   "source": [
    "### Some of commonly used libraries used by Data Scientists include:\n",
    "1. Panda \n",
    "2. Matplotib\n",
    "3. Apache Spark\n",
    "4. Vegas"
   ]
  },
  {
   "cell_type": "markdown",
   "id": "43c0934c-ac31-48d9-937b-745e910fb5d5",
   "metadata": {
    "tags": []
   },
   "source": [
    "### Table of data Science Tools\n",
    "|Data Science Tools|\n",
    "|------------------|\n",
    "|Jupyter Lab|\n",
    "|Apache Zeppelin|\n",
    "|RStudiio|\n"
   ]
  },
  {
   "cell_type": "markdown",
   "id": "2c9e3cbb-384e-430d-bc75-283e38d39ca9",
   "metadata": {},
   "source": [
    "### Below are a few examples of evaluating arithmetic expressions in python"
   ]
  },
  {
   "cell_type": "code",
   "execution_count": 2,
   "id": "463be95e-3e1c-4083-9f9f-06f9f4e01850",
   "metadata": {
    "tags": []
   },
   "outputs": [
    {
     "data": {
      "text/plain": [
       "17"
      ]
     },
     "execution_count": 2,
     "metadata": {},
     "output_type": "execute_result"
    }
   ],
   "source": [
    "# this is a simple arithmetic expression to multiply then add integers\n",
    "(3*4)+5"
   ]
  },
  {
   "cell_type": "code",
   "execution_count": 3,
   "id": "364e8365-7c7a-4753-bf91-1d80c320e84f",
   "metadata": {},
   "outputs": [
    {
     "data": {
      "text/plain": [
       "3.3333333333333335"
      ]
     },
     "execution_count": 3,
     "metadata": {},
     "output_type": "execute_result"
    }
   ],
   "source": [
    "# this will convert 200 minutes to hours by diving by 60 \n",
    "200/60"
   ]
  },
  {
   "cell_type": "markdown",
   "id": "6e0a2082-418f-498c-af37-ffc7176b7f7e",
   "metadata": {},
   "source": [
    "## Author\n",
    "## Ivanna Zaffiri"
   ]
  }
 ],
 "metadata": {
  "kernelspec": {
   "display_name": "Python 3 (ipykernel)",
   "language": "python",
   "name": "python3"
  },
  "language_info": {
   "codemirror_mode": {
    "name": "ipython",
    "version": 3
   },
   "file_extension": ".py",
   "mimetype": "text/x-python",
   "name": "python",
   "nbconvert_exporter": "python",
   "pygments_lexer": "ipython3",
   "version": "3.11.4"
  }
 },
 "nbformat": 4,
 "nbformat_minor": 5
}
